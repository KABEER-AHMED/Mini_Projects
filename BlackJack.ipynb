{
 "cells": [
  {
   "cell_type": "code",
   "execution_count": 3,
   "id": "f52d393c",
   "metadata": {},
   "outputs": [
    {
     "name": "stdout",
     "output_type": "stream",
     "text": [
      "Selamun aleykum Dunya\n"
     ]
    }
   ],
   "source": [
    "print(\"Selamun aleykum Dunya\")"
   ]
  },
  {
   "cell_type": "code",
   "execution_count": 4,
   "id": "b0479c89",
   "metadata": {},
   "outputs": [
    {
     "name": "stdout",
     "output_type": "stream",
     "text": [
      "Welcome to BlackJack Game Simulation\n"
     ]
    }
   ],
   "source": [
    "print(\"Welcome to BlackJack Game Simulation\")"
   ]
  },
  {
   "cell_type": "code",
   "execution_count": 5,
   "id": "f255873f",
   "metadata": {},
   "outputs": [],
   "source": [
    "# create a deck class \n",
    "# create a player class\n",
    "# in the player class create a sum variable etc \n",
    "#"
   ]
  },
  {
   "cell_type": "code",
   "execution_count": 6,
   "id": "99b09e93",
   "metadata": {},
   "outputs": [],
   "source": [
    "import random\n",
    "Values = {'Two':2, 'Three':3, 'Four':4, 'Five':5, 'Six':6, 'Seven':7, 'Eight':8,'Nine':9, 'Ten':10, 'Jack':10, 'Queen':10, 'King':10, 'Ace':1}\n",
    "suits = (\"Spade\",\"Club\",\"Diamond\",\"Heart\")\n",
    "ranks = ('Two', 'Three', 'Four', 'Five', 'Six', 'Seven', 'Eight', 'Nine', 'Ten', 'Jack', 'Queen', 'King', 'Ace')\n",
    "\n",
    "class Card:\n",
    "    def __init__(self,suit,rank):\n",
    "        self.suit = suit\n",
    "        self.rank = rank\n",
    "        self.value = Values[rank]\n",
    "    \n",
    "    def __str__(self):\n",
    "        return (\"{} of {}\".format(self.rank,self.suit))\n"
   ]
  },
  {
   "cell_type": "code",
   "execution_count": 7,
   "id": "a240d5b4",
   "metadata": {},
   "outputs": [],
   "source": [
    "class Deck:\n",
    "    def __init__(self):\n",
    "        self.card_list = []\n",
    "        for suit in suits:\n",
    "            for rank in ranks:\n",
    "                card = Card(suit,rank)\n",
    "                self.card_list.append(card)\n",
    "    def shuffle(self):\n",
    "        random.shuffle(self.card_list)\n",
    "        return self.card_list\n",
    "    def deal_one(self):\n",
    "        return self.card_list.pop()"
   ]
  },
  {
   "cell_type": "code",
   "execution_count": 15,
   "id": "1749ab50",
   "metadata": {},
   "outputs": [],
   "source": [
    "class Player:\n",
    "    def __init__(self, name, initial_bet_money):\n",
    "        self.name = name\n",
    "        self.initial_bet_money = initial_bet_money\n",
    "        self.player_cards = []\n",
    "        self.player_cards_sum = 0\n",
    "    def Hit(self,new_card):\n",
    "        self.player_cards.append(new_card)\n",
    "    \n",
    "    def Sum(self):\n",
    "        if len(self.player_cards) != 0:\n",
    "            for i in self.player_cards:\n",
    "                self.player_cards_sum += i.value\n",
    "        return self.player_cards_sum\n",
    "    def Money(self, bet_money):\n",
    "        self.initial_bet_money += bet_money\n",
    "        return self.initial_bet_money\n",
    "    def Print_card(self):\n",
    "        print(\"{} Your Cards are : \".format(self.name))\n",
    "        for i in self.player_cards:\n",
    "            print(i)\n",
    "        print(\"{} the total sum for your cards is {}\".format(self.name,self.player_cards_sum))\n",
    "        \n",
    "            "
   ]
  },
  {
   "cell_type": "code",
   "execution_count": null,
   "id": "9f535431",
   "metadata": {},
   "outputs": [],
   "source": [
    "# start game logic \n",
    "\n"
   ]
  },
  {
   "cell_type": "code",
   "execution_count": null,
   "id": "c1f80452",
   "metadata": {},
   "outputs": [],
   "source": []
  }
 ],
 "metadata": {
  "kernelspec": {
   "display_name": "base",
   "language": "python",
   "name": "python3"
  },
  "language_info": {
   "codemirror_mode": {
    "name": "ipython",
    "version": 3
   },
   "file_extension": ".py",
   "mimetype": "text/x-python",
   "name": "python",
   "nbconvert_exporter": "python",
   "pygments_lexer": "ipython3",
   "version": "3.13.5"
  }
 },
 "nbformat": 4,
 "nbformat_minor": 5
}
