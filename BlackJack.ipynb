{
 "cells": [
  {
   "cell_type": "code",
   "execution_count": 2,
   "id": "f52d393c",
   "metadata": {},
   "outputs": [
    {
     "name": "stdout",
     "output_type": "stream",
     "text": [
      "Selamun aleykum Dunya\n"
     ]
    }
   ],
   "source": [
    "print(\"Selamun aleykum Dunya\")"
   ]
  },
  {
   "cell_type": "code",
   "execution_count": 3,
   "id": "b0479c89",
   "metadata": {},
   "outputs": [
    {
     "name": "stdout",
     "output_type": "stream",
     "text": [
      "Welcome to BlackJack Game Simulation\n"
     ]
    }
   ],
   "source": [
    "print(\"Welcome to BlackJack Game Simulation\")"
   ]
  },
  {
   "cell_type": "code",
   "execution_count": 4,
   "id": "f255873f",
   "metadata": {},
   "outputs": [],
   "source": [
    "# create a deck class \n",
    "# create a player class\n",
    "# in the player class create a sum variable etc \n",
    "#"
   ]
  },
  {
   "cell_type": "code",
   "execution_count": 5,
   "id": "99b09e93",
   "metadata": {},
   "outputs": [],
   "source": [
    "import random\n",
    "Values = {'Two':2, 'Three':3, 'Four':4, 'Five':5, 'Six':6, 'Seven':7, 'Eight':8,'Nine':9, 'Ten':10, 'Jack':10, 'Queen':10, 'King':10, 'Ace':1}\n",
    "suits = (\"Spade\",\"Club\",\"Diamond\",\"Heart\")\n",
    "ranks = ('Two', 'Three', 'Four', 'Five', 'Six', 'Seven', 'Eight', 'Nine', 'Ten', 'Jack', 'Queen', 'King', 'Ace')\n",
    "\n",
    "class Card:\n",
    "    def __init__(self,suit,rank):\n",
    "        self.suit = suit\n",
    "        self.rank = rank\n",
    "        self.value = Values[rank]\n",
    "    \n",
    "    def __str__(self):\n",
    "        return (\"{} of {}\".format(self.rank,self.suit))\n",
    "\n",
    "cardobject = Card(\"Spade\"   ,\"Ace\")"
   ]
  },
  {
   "cell_type": "code",
   "execution_count": 6,
   "id": "a240d5b4",
   "metadata": {},
   "outputs": [],
   "source": [
    "class Deck:\n",
    "    def __init__(self):\n",
    "        self.card_list = []\n",
    "        for suit in suits:\n",
    "            for rank in ranks:\n",
    "                card = Card(suit,rank)\n",
    "                self.card_list.append(card)\n",
    "    def shuffle(self):\n",
    "        random.shuffle(self.card_list)\n",
    "        return self.card_list\n",
    "    def deal_one(self):\n",
    "        return self.card_list.pop()\n"
   ]
  },
  {
   "cell_type": "code",
   "execution_count": 7,
   "id": "1749ab50",
   "metadata": {},
   "outputs": [],
   "source": [
    "class Player:\n",
    "    def __init__(self, name, initial_bet_money):\n",
    "        self.name = name\n",
    "        self.initial_bet_money = initial_bet_money\n",
    "        self.player_cards = []\n",
    "        self.player_cards_sum = 0\n",
    "    def Hit(self,new_card):\n",
    "        self.player_cards.append(new_card)\n",
    "    \n",
    "    def Sum(self):\n",
    "        if len(self.player_cards) != 0:\n",
    "            self.player_cards_sum = 0\n",
    "            for i in self.player_cards:\n",
    "                self.player_cards_sum += i.value\n",
    "        return self.player_cards_sum\n",
    "    def Money(self, bet_money):\n",
    "        self.initial_bet_money += bet_money\n",
    "        return self.initial_bet_money\n",
    "    def Print_card(self):\n",
    "        print(\"{} Your Cards are : \".format(self.name))\n",
    "        for i in self.player_cards:\n",
    "            print(i)\n",
    "        print(\"{} the total sum for your cards is {}\".format(self.name,self.player_cards_sum))\n",
    "        \n",
    "            "
   ]
  },
  {
   "cell_type": "code",
   "execution_count": 11,
   "id": "9f535431",
   "metadata": {},
   "outputs": [
    {
     "name": "stdout",
     "output_type": "stream",
     "text": [
      "The Dealer's cards are : \n",
      "Four of Club +  Hidden \n",
      "The player's Turn \n",
      "player Your Cards are : \n",
      "Queen of Heart\n",
      "Eight of Club\n",
      "player the total sum for your cards is 18\n",
      "This is your total amount that you can bet with : 500\n",
      "You have selected 600.0 Dollars as the bet amount\n",
      "invalid amount entered , please make sure that the bet amount is between 0 and 500\n",
      "Your turn has ended, its now dealer's turn \n",
      "Disclosing the dealer's hand\n",
      "dealer Your Cards are : \n",
      "Four of Club\n",
      "King of Club\n",
      "dealer the total sum for your cards is 14\n",
      "dealer Your Cards are : \n",
      "Four of Club\n",
      "King of Club\n",
      "Eight of Heart\n",
      "dealer the total sum for your cards is 22\n",
      "BUST !!! , PLAYER WINS !!!\n",
      "The player has now won the bet money of 62 dollars , and has a total of 562 dollars\n"
     ]
    }
   ],
   "source": [
    "# start game logic \n",
    "\n",
    "deck = Deck()\n",
    "deck.shuffle()\n",
    "dealer = Player(\"dealer\",500)\n",
    "player = Player(\"player\",500)\n",
    "\n",
    "for i in range(2):\n",
    "    dealer.Sum()\n",
    "    card = deck.deal_one()\n",
    "    if card.rank == \"Ace\":\n",
    "        if dealer.player_cards_sum <= 10 :\n",
    "            card.value = 11\n",
    "        else: \n",
    "            card.value = 1\n",
    "    dealer.Hit(card)\n",
    "    dealer.Sum()\n",
    "for i in range(2):\n",
    "    player.Sum()\n",
    "    card = deck.deal_one()\n",
    "    if card.rank == \"Ace\":\n",
    "        if player.player_cards_sum <= 10 :\n",
    "            card.value = 11\n",
    "        else:\n",
    "            card.value = 1\n",
    "    player.Hit(card)\n",
    "    player.Sum()\n",
    "\n",
    "\n",
    "print(\"The Dealer's cards are : \")\n",
    "print(\"{} +  Hidden \".format(dealer.player_cards[0]))\n",
    "\n",
    "print(\"The player's Turn \")\n",
    "player.Print_card()\n",
    "print(\"This is your total amount that you can bet with : {}\".format(player.initial_bet_money))\n",
    "player_bet = float(input(\"Please enter the bet amount, make sure the amount is less than or equal to the total bet money that you have\"))\n",
    "print(\"You have selected {} Dollars as the bet amount\".format(player_bet))\n",
    "while player_bet<0 or player_bet>player.initial_bet_money:\n",
    "    print(\"invalid amount entered , please make sure that the bet amount is between 0 and {}\".format(player.initial_bet_money))\n",
    "    player_bet = float(input())\n",
    "choice = int(input(\" Select your course of action :  \\\n",
    "                        1.) Hit \\\n",
    "                        2.) Stay \"))\n",
    "x=True\n",
    "while choice == 1:\n",
    "    card = deck.deal_one()\n",
    "    if card.rank == \"Ace\":\n",
    "        if player.player_cards_sum <= 10 :\n",
    "            card.value = 11\n",
    "        else:\n",
    "            card.value = 1\n",
    "    player.Hit(card)\n",
    "    player.Sum()\n",
    "    player.Print_card()\n",
    "    if player.player_cards_sum > 21:\n",
    "        print(\"\"\" BUST !!!! , YOU WENT OVER 21 POINTS, THE DEALER WINS!!!!!\"\"\")\n",
    "        dealer.Money(player_bet)\n",
    "        print(\"The dealer gets your bet, {} Dollars is now his, with a total of {}\".format(player_bet,dealer.initial_bet_money))\n",
    "        x= False\n",
    "        break\n",
    "    choice = int(input(\" Select your course of action :  \\\n",
    "                            1.) Hit \\\n",
    "                            2.) Stay \"))\n",
    "\n",
    "while x:\n",
    "\n",
    "    print(\"Your turn has ended, its now dealer's turn \")\n",
    "\n",
    "    print(\"Disclosing the dealer's hand\")\n",
    "    dealer.Sum()\n",
    "    dealer.Print_card()\n",
    "    dealer_bet = random.randint(1,500)\n",
    "    while True:\n",
    "        while dealer.player_cards_sum < 18:\n",
    "            card = deck.deal_one()\n",
    "            if card.rank == \"Ace\":\n",
    "                if dealer.player_cards_sum <= 10 :\n",
    "                    card.value = 11\n",
    "                else:\n",
    "                    card.value = 1\n",
    "            dealer.Hit(card)\n",
    "            dealer.Sum()\n",
    "            dealer.Print_card()\n",
    "        if dealer.player_cards_sum > 21:\n",
    "            print(\"BUST !!! , PLAYER WINS !!!\")\n",
    "            player.Money(dealer_bet)\n",
    "            print(\"The player has now won the bet money of {} dollars , and has a total of {} dollars\".format(dealer_bet,player.initial_bet_money))\n",
    "            break\n",
    "        elif dealer.player_cards_sum < player.player_cards_sum :\n",
    "            print(\"The dealer has less than the player, hence dealer loses , the player wins, the dealer's bet goes to the player \")\n",
    "            player.Money(dealer_bet)\n",
    "            print(\"The player has now won the bet money of {} dollars , and has a total of {} dollars\".format(dealer_bet,player.initial_bet_money))\n",
    "            break\n",
    "        elif player.player_cards_sum < dealer.player_cards_sum:\n",
    "            print(\"The dealer has more points than the player, hence the dealer wins and gets the bet money of {} dollars and a total of {} dollars\".format(player_bet,dealer.initial_bet_money))\n",
    "            dealer.Money(player_bet)\n",
    "            break\n",
    "        else:\n",
    "            print(\"The match has been tied , restart the game\")\n",
    "            break\n",
    "    break\n",
    "        \n",
    "        "
   ]
  },
  {
   "cell_type": "code",
   "execution_count": null,
   "id": "447d3e2d",
   "metadata": {},
   "outputs": [],
   "source": []
  },
  {
   "cell_type": "code",
   "execution_count": null,
   "id": "c1f80452",
   "metadata": {},
   "outputs": [],
   "source": []
  },
  {
   "cell_type": "code",
   "execution_count": null,
   "id": "5d58fd2d",
   "metadata": {},
   "outputs": [],
   "source": []
  }
 ],
 "metadata": {
  "kernelspec": {
   "display_name": "base",
   "language": "python",
   "name": "python3"
  },
  "language_info": {
   "codemirror_mode": {
    "name": "ipython",
    "version": 3
   },
   "file_extension": ".py",
   "mimetype": "text/x-python",
   "name": "python",
   "nbconvert_exporter": "python",
   "pygments_lexer": "ipython3",
   "version": "3.13.5"
  }
 },
 "nbformat": 4,
 "nbformat_minor": 5
}
