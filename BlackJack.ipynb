{
 "cells": [
  {
   "cell_type": "code",
   "execution_count": 2,
   "id": "f52d393c",
   "metadata": {},
   "outputs": [
    {
     "name": "stdout",
     "output_type": "stream",
     "text": [
      "Selamun aleykum Dunya\n"
     ]
    }
   ],
   "source": [
    "print(\"Selamun aleykum Dunya\")"
   ]
  },
  {
   "cell_type": "code",
   "execution_count": 3,
   "id": "b0479c89",
   "metadata": {},
   "outputs": [
    {
     "name": "stdout",
     "output_type": "stream",
     "text": [
      "Welcome to BlackJack Game Simulation\n"
     ]
    }
   ],
   "source": [
    "print(\"Welcome to BlackJack Game Simulation\")"
   ]
  },
  {
   "cell_type": "code",
   "execution_count": 4,
   "id": "f255873f",
   "metadata": {},
   "outputs": [],
   "source": [
    "# create a deck class \n",
    "# create a player class\n",
    "# in the player class create a sum variable etc \n",
    "#"
   ]
  },
  {
   "cell_type": "code",
   "execution_count": 8,
   "id": "99b09e93",
   "metadata": {},
   "outputs": [],
   "source": [
    "import random\n",
    "Values = {'Two':2, 'Three':3, 'Four':4, 'Five':5, 'Six':6, 'Seven':7, 'Eight':8,'Nine':9, 'Ten':10, 'Jack':11, 'Queen':12, 'King':13, 'Ace':1}\n",
    "suits = (\"Spade\",\"Club\",\"Diamond\",\"Heart\")\n",
    "ranks = ('Two', 'Three', 'Four', 'Five', 'Six', 'Seven', 'Eight', 'Nine', 'Ten', 'Jack', 'Queen', 'King', 'Ace')\n",
    "\n",
    "class Card:\n",
    "    def __init__(self,suit,rank):\n",
    "        self.suit = suit\n",
    "        self.rank = rank\n",
    "        self.value = Values[rank]\n",
    "    \n",
    "    def __str__(self):\n",
    "        return (\"{} of {}\".format(self.rank,self.suit))\n"
   ]
  },
  {
   "cell_type": "code",
   "execution_count": null,
   "id": "a240d5b4",
   "metadata": {},
   "outputs": [],
   "source": [
    "class Deck:\n",
    "    def __init__(self):\n",
    "        pass"
   ]
  }
 ],
 "metadata": {
  "kernelspec": {
   "display_name": "base",
   "language": "python",
   "name": "python3"
  },
  "language_info": {
   "codemirror_mode": {
    "name": "ipython",
    "version": 3
   },
   "file_extension": ".py",
   "mimetype": "text/x-python",
   "name": "python",
   "nbconvert_exporter": "python",
   "pygments_lexer": "ipython3",
   "version": "3.13.5"
  }
 },
 "nbformat": 4,
 "nbformat_minor": 5
}
