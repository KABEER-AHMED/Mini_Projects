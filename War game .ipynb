{
 "cells": [
  {
   "cell_type": "code",
   "execution_count": 15,
   "metadata": {},
   "outputs": [],
   "source": [
    "import random"
   ]
  },
  {
   "cell_type": "code",
   "execution_count": 16,
   "metadata": {},
   "outputs": [],
   "source": [
    "values={'two':2,'three':3,'four':4,'five':5,'six':6,'seven':7,'eight':8,'nine':9,'ten':10,'jack':11,'queen':12,'king':13,'ace':14}\n",
    "suits=('hearts','spades','clubs','diamond')\n",
    "ranks=('two','three','four','five','six','seven','eight','nine','ten','jack','queen','king','ace')"
   ]
  },
  {
   "cell_type": "code",
   "execution_count": 17,
   "metadata": {},
   "outputs": [],
   "source": [
    "class Card:\n",
    "    \n",
    "    def __init__(self,suit,rank):\n",
    "        self.suit=suit\n",
    "        self.rank=rank\n",
    "        self.value=values[rank]\n",
    "\n",
    "    def __str__(self):\n",
    "        return self.rank+ \" of \" +self.suit      "
   ]
  },
  {
   "cell_type": "code",
   "execution_count": 18,
   "metadata": {},
   "outputs": [],
   "source": [
    "class Deck:\n",
    "    def __init__(self):\n",
    "        self.all_cards=[]\n",
    "        for suit in suits:\n",
    "            for rank in ranks:\n",
    "                card_created=Card(suit,rank)\n",
    "                self.all_cards.append(card_created)\n",
    "\n",
    "    def shuffle(self):\n",
    "        random.shuffle(self.all_cards)\n",
    "\n",
    "    def deal_one(self):\n",
    "        return self.all_cards.pop()\n",
    "\n"
   ]
  },
  {
   "cell_type": "code",
   "execution_count": 19,
   "metadata": {},
   "outputs": [],
   "source": [
    "class Player:\n",
    "    \n",
    "    def __init__(self, name):\n",
    "        self.name = name\n",
    "        self.all_cards = []\n",
    "    \n",
    "    def remove_card(self):\n",
    "        return self.all_cards.pop(0)\n",
    "\n",
    "    def add_cards(self, new_cards):\n",
    "        if type(new_cards) == type([]):\n",
    "            self.all_cards.extend(new_cards)\n",
    "        else:\n",
    "            self.all_cards.append(new_cards)\n",
    "\n",
    "    def __str__(self):\n",
    "        return f\"The player {self.name} has {len(self.all_cards)} cards\"\n"
   ]
  },
  {
   "cell_type": "code",
   "execution_count": 20,
   "metadata": {},
   "outputs": [],
   "source": [
    "#GAME SETUP BEGINS HERE\n",
    "player_one=Player(\"one\")\n",
    "player_two=Player(\"two\")"
   ]
  },
  {
   "cell_type": "code",
   "execution_count": 21,
   "metadata": {},
   "outputs": [],
   "source": [
    "new_deck=Deck()\n",
    "new_deck.shuffle()"
   ]
  },
  {
   "cell_type": "code",
   "execution_count": 22,
   "metadata": {},
   "outputs": [],
   "source": [
    "for i in range(26):\n",
    "    player_one.add_cards(new_deck.deal_one())\n",
    "    player_two.add_cards(new_deck.deal_one())"
   ]
  },
  {
   "cell_type": "code",
   "execution_count": null,
   "metadata": {},
   "outputs": [],
   "source": [
    "game_on=True\n",
    "#while game on loop \n",
    "round_no=0\n",
    "while game_on:\n",
    "    round_no+=1\n",
    "    print(f\"this is the round {round_no}\")\n",
    "    if len(player_one.all_cards) == 0:\n",
    "        print(\"the player one has lost, player two wins \")\n",
    "        game_on=False\n",
    "        break\n",
    "    if len(player_two.all_cards) == 0:\n",
    "        print(\"the player two loses, player one wins\")\n",
    "        game_on=False\n",
    "        break\n",
    "\n",
    "    #starrting a new round\n",
    "    player_one_table_Card=[]\n",
    "    player_one_table_Card.append(player_one.remove_card())\n",
    "    player_two_table_card=[]\n",
    "    player_two_table_card.append(player_two.remove_card())\n",
    "    \n",
    "\n",
    "    if player_one_table_Card[-1].value > player_two_table_card[-1].value:\n",
    "        player_one.add_cards(player_one_table_Card)\n",
    "        player_one.add_cards(player_two_table_card)\n",
    "\n",
    "    elif player_two_table_card[-1].value > player_one_table_Card[-1].value:\n",
    "        player_two.add_cards(player_one_table_Card)\n",
    "        player_two.add_cards(player_two_table_card)\n",
    "\n",
    "    else: \n",
    "        print(\"WAR!!!\")\n",
    "        \n",
    "         \n",
    "        \n"
   ]
  },
  {
   "cell_type": "code",
   "execution_count": null,
   "metadata": {},
   "outputs": [],
   "source": []
  }
 ],
 "metadata": {
  "kernelspec": {
   "display_name": "Python 3",
   "language": "python",
   "name": "python3"
  },
  "language_info": {
   "codemirror_mode": {
    "name": "ipython",
    "version": 3
   },
   "file_extension": ".py",
   "mimetype": "text/x-python",
   "name": "python",
   "nbconvert_exporter": "python",
   "pygments_lexer": "ipython3",
   "version": "3.12.5"
  }
 },
 "nbformat": 4,
 "nbformat_minor": 2
}
